{
 "cells": [
  {
   "cell_type": "code",
   "execution_count": 3,
   "id": "a45785ad",
   "metadata": {},
   "outputs": [],
   "source": [
    "# Etapa 1: Carregamento dos dados do dataset e Pré processamento"
   ]
  },
  {
   "cell_type": "code",
   "execution_count": 4,
   "id": "da56d5a7",
   "metadata": {},
   "outputs": [],
   "source": [
    "# Bibliotecas\n",
    "import pandas as pd\n",
    "import numpy as np\n",
    "import seaborn as sns\n",
    "import matplotlib.pyplot as plt\n",
    "\n",
    "from sklearn.model_selection import train_test_split\n",
    "from sklearn.linear_model import LogisticRegression\n",
    "from sklearn.metrics import balanced_accuracy_score\n",
    "from sklearn.model_selection import cross_val_score\n",
    "from sklearn.pipeline import Pipeline\n",
    "from sklearn.preprocessing import StandardScaler\n",
    "from sklearn.preprocessing import MinMaxScaler\n",
    "from sklearn.neighbors import KNeighborsClassifier\n",
    "from sklearn.feature_selection import SelectKBest\n",
    "from sklearn.feature_selection import chi2\n",
    "from sklearn.decomposition import PCA\n"
   ]
  },
  {
   "cell_type": "code",
   "execution_count": 5,
   "id": "b420dfba",
   "metadata": {},
   "outputs": [
    {
     "data": {
      "text/html": [
       "<div>\n",
       "<style scoped>\n",
       "    .dataframe tbody tr th:only-of-type {\n",
       "        vertical-align: middle;\n",
       "    }\n",
       "\n",
       "    .dataframe tbody tr th {\n",
       "        vertical-align: top;\n",
       "    }\n",
       "\n",
       "    .dataframe thead th {\n",
       "        text-align: right;\n",
       "    }\n",
       "</style>\n",
       "<table border=\"1\" class=\"dataframe\">\n",
       "  <thead>\n",
       "    <tr style=\"text-align: right;\">\n",
       "      <th></th>\n",
       "      <th>hsa.let.7a.1</th>\n",
       "      <th>hsa.let.7a.2</th>\n",
       "      <th>hsa.let.7a.3</th>\n",
       "      <th>hsa.let.7b</th>\n",
       "      <th>hsa.let.7c</th>\n",
       "      <th>hsa.let.7d</th>\n",
       "      <th>hsa.let.7e</th>\n",
       "      <th>hsa.let.7f.1</th>\n",
       "      <th>hsa.let.7f.2</th>\n",
       "      <th>hsa.let.7g</th>\n",
       "      <th>...</th>\n",
       "      <th>hsa.mir.941.1</th>\n",
       "      <th>hsa.mir.942</th>\n",
       "      <th>hsa.mir.943</th>\n",
       "      <th>hsa.mir.944</th>\n",
       "      <th>hsa.mir.95</th>\n",
       "      <th>hsa.mir.96</th>\n",
       "      <th>hsa.mir.98</th>\n",
       "      <th>hsa.mir.99a</th>\n",
       "      <th>hsa.mir.99b</th>\n",
       "      <th>class</th>\n",
       "    </tr>\n",
       "  </thead>\n",
       "  <tbody>\n",
       "    <tr>\n",
       "      <th>0</th>\n",
       "      <td>8962.996542</td>\n",
       "      <td>17779.575039</td>\n",
       "      <td>9075.200383</td>\n",
       "      <td>24749.898857</td>\n",
       "      <td>341.298400</td>\n",
       "      <td>406.164781</td>\n",
       "      <td>1470.179650</td>\n",
       "      <td>14.716795</td>\n",
       "      <td>3627.642977</td>\n",
       "      <td>387.417272</td>\n",
       "      <td>...</td>\n",
       "      <td>0.0</td>\n",
       "      <td>5.530515</td>\n",
       "      <td>0.187475</td>\n",
       "      <td>2.062226</td>\n",
       "      <td>4.124452</td>\n",
       "      <td>119.984057</td>\n",
       "      <td>53.992826</td>\n",
       "      <td>130.201449</td>\n",
       "      <td>46548.939810</td>\n",
       "      <td>TP</td>\n",
       "    </tr>\n",
       "    <tr>\n",
       "      <th>1</th>\n",
       "      <td>7739.739862</td>\n",
       "      <td>15524.941906</td>\n",
       "      <td>7713.626636</td>\n",
       "      <td>23374.640471</td>\n",
       "      <td>801.487258</td>\n",
       "      <td>513.297924</td>\n",
       "      <td>560.962427</td>\n",
       "      <td>20.922042</td>\n",
       "      <td>6557.093894</td>\n",
       "      <td>350.955461</td>\n",
       "      <td>...</td>\n",
       "      <td>0.0</td>\n",
       "      <td>8.180047</td>\n",
       "      <td>0.000000</td>\n",
       "      <td>0.629234</td>\n",
       "      <td>1.258469</td>\n",
       "      <td>60.249189</td>\n",
       "      <td>86.047798</td>\n",
       "      <td>236.434808</td>\n",
       "      <td>12644.149725</td>\n",
       "      <td>TP</td>\n",
       "    </tr>\n",
       "    <tr>\n",
       "      <th>2</th>\n",
       "      <td>8260.612670</td>\n",
       "      <td>16497.981335</td>\n",
       "      <td>8355.342958</td>\n",
       "      <td>10957.355911</td>\n",
       "      <td>635.811272</td>\n",
       "      <td>620.351816</td>\n",
       "      <td>2694.331127</td>\n",
       "      <td>39.799878</td>\n",
       "      <td>11830.760394</td>\n",
       "      <td>600.725980</td>\n",
       "      <td>...</td>\n",
       "      <td>0.0</td>\n",
       "      <td>3.618171</td>\n",
       "      <td>0.000000</td>\n",
       "      <td>0.767491</td>\n",
       "      <td>1.644623</td>\n",
       "      <td>97.252043</td>\n",
       "      <td>117.645369</td>\n",
       "      <td>191.434123</td>\n",
       "      <td>33083.456616</td>\n",
       "      <td>TP</td>\n",
       "    </tr>\n",
       "    <tr>\n",
       "      <th>3</th>\n",
       "      <td>9056.241254</td>\n",
       "      <td>18075.168478</td>\n",
       "      <td>9097.666150</td>\n",
       "      <td>26017.522731</td>\n",
       "      <td>2919.348415</td>\n",
       "      <td>334.245155</td>\n",
       "      <td>1322.434475</td>\n",
       "      <td>17.866463</td>\n",
       "      <td>6438.725384</td>\n",
       "      <td>354.957604</td>\n",
       "      <td>...</td>\n",
       "      <td>0.0</td>\n",
       "      <td>3.478426</td>\n",
       "      <td>0.000000</td>\n",
       "      <td>3.478426</td>\n",
       "      <td>1.739213</td>\n",
       "      <td>72.572624</td>\n",
       "      <td>41.583007</td>\n",
       "      <td>1046.690127</td>\n",
       "      <td>24067.232290</td>\n",
       "      <td>TP</td>\n",
       "    </tr>\n",
       "    <tr>\n",
       "      <th>4</th>\n",
       "      <td>10897.303665</td>\n",
       "      <td>21822.338727</td>\n",
       "      <td>10963.956320</td>\n",
       "      <td>22204.253575</td>\n",
       "      <td>3313.009950</td>\n",
       "      <td>350.615669</td>\n",
       "      <td>1711.886682</td>\n",
       "      <td>22.541895</td>\n",
       "      <td>8246.117280</td>\n",
       "      <td>333.425447</td>\n",
       "      <td>...</td>\n",
       "      <td>0.0</td>\n",
       "      <td>2.108235</td>\n",
       "      <td>0.000000</td>\n",
       "      <td>1.135203</td>\n",
       "      <td>0.810860</td>\n",
       "      <td>19.947145</td>\n",
       "      <td>34.380445</td>\n",
       "      <td>1081.037952</td>\n",
       "      <td>25715.275426</td>\n",
       "      <td>TP</td>\n",
       "    </tr>\n",
       "  </tbody>\n",
       "</table>\n",
       "<p>5 rows × 898 columns</p>\n",
       "</div>"
      ],
      "text/plain": [
       "   hsa.let.7a.1  hsa.let.7a.2  hsa.let.7a.3    hsa.let.7b   hsa.let.7c  \\\n",
       "0   8962.996542  17779.575039   9075.200383  24749.898857   341.298400   \n",
       "1   7739.739862  15524.941906   7713.626636  23374.640471   801.487258   \n",
       "2   8260.612670  16497.981335   8355.342958  10957.355911   635.811272   \n",
       "3   9056.241254  18075.168478   9097.666150  26017.522731  2919.348415   \n",
       "4  10897.303665  21822.338727  10963.956320  22204.253575  3313.009950   \n",
       "\n",
       "   hsa.let.7d   hsa.let.7e  hsa.let.7f.1  hsa.let.7f.2  hsa.let.7g  ...  \\\n",
       "0  406.164781  1470.179650     14.716795   3627.642977  387.417272  ...   \n",
       "1  513.297924   560.962427     20.922042   6557.093894  350.955461  ...   \n",
       "2  620.351816  2694.331127     39.799878  11830.760394  600.725980  ...   \n",
       "3  334.245155  1322.434475     17.866463   6438.725384  354.957604  ...   \n",
       "4  350.615669  1711.886682     22.541895   8246.117280  333.425447  ...   \n",
       "\n",
       "   hsa.mir.941.1  hsa.mir.942  hsa.mir.943  hsa.mir.944  hsa.mir.95  \\\n",
       "0            0.0     5.530515     0.187475     2.062226    4.124452   \n",
       "1            0.0     8.180047     0.000000     0.629234    1.258469   \n",
       "2            0.0     3.618171     0.000000     0.767491    1.644623   \n",
       "3            0.0     3.478426     0.000000     3.478426    1.739213   \n",
       "4            0.0     2.108235     0.000000     1.135203    0.810860   \n",
       "\n",
       "   hsa.mir.96  hsa.mir.98  hsa.mir.99a   hsa.mir.99b  class  \n",
       "0  119.984057   53.992826   130.201449  46548.939810     TP  \n",
       "1   60.249189   86.047798   236.434808  12644.149725     TP  \n",
       "2   97.252043  117.645369   191.434123  33083.456616     TP  \n",
       "3   72.572624   41.583007  1046.690127  24067.232290     TP  \n",
       "4   19.947145   34.380445  1081.037952  25715.275426     TP  \n",
       "\n",
       "[5 rows x 898 columns]"
      ]
     },
     "execution_count": 5,
     "metadata": {},
     "output_type": "execute_result"
    }
   ],
   "source": [
    "# header indica que 1º linha inidicará o cabeçalho. decimal indica que os números decimais estão usando vírgula como separador.\n",
    "# sep indica que o ponto-vírugla é o separador das colunas no arquivo csv.\n",
    "df = pd.read_csv('brca_mirnaseq.csv', sep=';', header=0, decimal=',')\n",
    "df.head()"
   ]
  },
  {
   "cell_type": "code",
   "execution_count": 6,
   "id": "35ba68ca",
   "metadata": {},
   "outputs": [],
   "source": [
    "# Etapa 2: Análise exploratória"
   ]
  },
  {
   "cell_type": "code",
   "execution_count": 7,
   "id": "ba6538b1",
   "metadata": {},
   "outputs": [],
   "source": [
    "# Observa no dataset acima que os dados possuiem uma magnitude muito diverente. Nota-se que há colunas com valores decimais\n",
    "# muito grandes (acima de 40000) e outras muito pequenos (0.2)"
   ]
  },
  {
   "cell_type": "code",
   "execution_count": 8,
   "id": "b9e86317",
   "metadata": {},
   "outputs": [
    {
     "data": {
      "text/plain": [
       "(842, 898)"
      ]
     },
     "execution_count": 8,
     "metadata": {},
     "output_type": "execute_result"
    }
   ],
   "source": [
    "df.shape"
   ]
  },
  {
   "cell_type": "code",
   "execution_count": 9,
   "id": "4fa6c9b4",
   "metadata": {},
   "outputs": [
    {
     "name": "stdout",
     "output_type": "stream",
     "text": [
      "<class 'pandas.core.frame.DataFrame'>\n",
      "RangeIndex: 842 entries, 0 to 841\n",
      "Columns: 898 entries, hsa.let.7a.1 to class\n",
      "dtypes: float64(897), object(1)\n",
      "memory usage: 5.8+ MB\n"
     ]
    }
   ],
   "source": [
    "df.info()"
   ]
  },
  {
   "cell_type": "code",
   "execution_count": 10,
   "id": "6f7b172a",
   "metadata": {},
   "outputs": [
    {
     "data": {
      "text/plain": [
       "TP    755\n",
       "NT     87\n",
       "Name: class, dtype: int64"
      ]
     },
     "execution_count": 10,
     "metadata": {},
     "output_type": "execute_result"
    },
    {
     "data": {
      "image/png": "[encoded data removed]",
      "text/plain": [
       "<Figure size 640x480 with 1 Axes>"
      ]
     },
     "metadata": {},
     "output_type": "display_data"
    }
   ],
   "source": [
    "# Verificando balanceamento dos dados da coluna class (tumor ou sem tumor)\n",
    "ax = sns.countplot(x=\"class\", data=df)\n",
    "df[\"class\"].value_counts()"
   ]
  },
  {
   "cell_type": "code",
   "execution_count": 11,
   "id": "d07bd55e",
   "metadata": {},
   "outputs": [
    {
     "data": {
      "text/plain": [
       "TP    0.896675\n",
       "NT    0.103325\n",
       "Name: class, dtype: float64"
      ]
     },
     "execution_count": 11,
     "metadata": {},
     "output_type": "execute_result"
    }
   ],
   "source": [
    "# Transforma a contagem de amostras em porcentagem e retorna a proporção dos dados.\n",
    "df[\"class\"].value_counts(normalize=True)"
   ]
  },
  {
   "cell_type": "code",
   "execution_count": 12,
   "id": "0655d2a7",
   "metadata": {},
   "outputs": [
    {
     "data": {
      "text/html": [
       "<div>\n",
       "<style scoped>\n",
       "    .dataframe tbody tr th:only-of-type {\n",
       "        vertical-align: middle;\n",
       "    }\n",
       "\n",
       "    .dataframe tbody tr th {\n",
       "        vertical-align: top;\n",
       "    }\n",
       "\n",
       "    .dataframe thead th {\n",
       "        text-align: right;\n",
       "    }\n",
       "</style>\n",
       "<table border=\"1\" class=\"dataframe\">\n",
       "  <thead>\n",
       "    <tr style=\"text-align: right;\">\n",
       "      <th></th>\n",
       "      <th>hsa.let.7a.1</th>\n",
       "      <th>hsa.let.7a.2</th>\n",
       "      <th>hsa.let.7a.3</th>\n",
       "      <th>hsa.let.7b</th>\n",
       "      <th>hsa.let.7c</th>\n",
       "      <th>hsa.let.7d</th>\n",
       "      <th>hsa.let.7e</th>\n",
       "      <th>hsa.let.7f.1</th>\n",
       "      <th>hsa.let.7f.2</th>\n",
       "      <th>hsa.let.7g</th>\n",
       "      <th>...</th>\n",
       "      <th>hsa.mir.940</th>\n",
       "      <th>hsa.mir.941.1</th>\n",
       "      <th>hsa.mir.942</th>\n",
       "      <th>hsa.mir.943</th>\n",
       "      <th>hsa.mir.944</th>\n",
       "      <th>hsa.mir.95</th>\n",
       "      <th>hsa.mir.96</th>\n",
       "      <th>hsa.mir.98</th>\n",
       "      <th>hsa.mir.99a</th>\n",
       "      <th>hsa.mir.99b</th>\n",
       "    </tr>\n",
       "  </thead>\n",
       "  <tbody>\n",
       "    <tr>\n",
       "      <th>count</th>\n",
       "      <td>842.000000</td>\n",
       "      <td>842.000000</td>\n",
       "      <td>842.000000</td>\n",
       "      <td>842.000000</td>\n",
       "      <td>842.000000</td>\n",
       "      <td>842.000000</td>\n",
       "      <td>842.000000</td>\n",
       "      <td>842.000000</td>\n",
       "      <td>842.000000</td>\n",
       "      <td>842.000000</td>\n",
       "      <td>...</td>\n",
       "      <td>842.000000</td>\n",
       "      <td>842.000000</td>\n",
       "      <td>842.000000</td>\n",
       "      <td>842.000000</td>\n",
       "      <td>842.000000</td>\n",
       "      <td>842.000000</td>\n",
       "      <td>842.000000</td>\n",
       "      <td>842.000000</td>\n",
       "      <td>842.000000</td>\n",
       "      <td>842.000000</td>\n",
       "    </tr>\n",
       "    <tr>\n",
       "      <th>mean</th>\n",
       "      <td>9218.938921</td>\n",
       "      <td>18432.504585</td>\n",
       "      <td>9289.250466</td>\n",
       "      <td>26606.604836</td>\n",
       "      <td>3152.699471</td>\n",
       "      <td>558.321269</td>\n",
       "      <td>1289.570177</td>\n",
       "      <td>24.359962</td>\n",
       "      <td>8687.461926</td>\n",
       "      <td>610.223836</td>\n",
       "      <td>...</td>\n",
       "      <td>5.902975</td>\n",
       "      <td>0.003737</td>\n",
       "      <td>6.446279</td>\n",
       "      <td>0.061018</td>\n",
       "      <td>2.320737</td>\n",
       "      <td>3.150482</td>\n",
       "      <td>38.307053</td>\n",
       "      <td>63.746405</td>\n",
       "      <td>1034.572148</td>\n",
       "      <td>44369.112203</td>\n",
       "    </tr>\n",
       "    <tr>\n",
       "      <th>std</th>\n",
       "      <td>4843.796136</td>\n",
       "      <td>9704.187427</td>\n",
       "      <td>4858.691217</td>\n",
       "      <td>16745.347957</td>\n",
       "      <td>3238.003201</td>\n",
       "      <td>346.883205</td>\n",
       "      <td>763.056055</td>\n",
       "      <td>12.490091</td>\n",
       "      <td>6052.615278</td>\n",
       "      <td>317.854963</td>\n",
       "      <td>...</td>\n",
       "      <td>8.325681</td>\n",
       "      <td>0.049274</td>\n",
       "      <td>9.541682</td>\n",
       "      <td>0.172214</td>\n",
       "      <td>6.527536</td>\n",
       "      <td>4.287594</td>\n",
       "      <td>33.791795</td>\n",
       "      <td>40.145314</td>\n",
       "      <td>1117.491608</td>\n",
       "      <td>32754.290751</td>\n",
       "    </tr>\n",
       "    <tr>\n",
       "      <th>min</th>\n",
       "      <td>1294.149164</td>\n",
       "      <td>2599.981125</td>\n",
       "      <td>1319.952907</td>\n",
       "      <td>1817.920354</td>\n",
       "      <td>148.795934</td>\n",
       "      <td>79.783216</td>\n",
       "      <td>161.181457</td>\n",
       "      <td>2.439034</td>\n",
       "      <td>653.474578</td>\n",
       "      <td>88.614573</td>\n",
       "      <td>...</td>\n",
       "      <td>0.000000</td>\n",
       "      <td>0.000000</td>\n",
       "      <td>0.000000</td>\n",
       "      <td>0.000000</td>\n",
       "      <td>0.000000</td>\n",
       "      <td>0.000000</td>\n",
       "      <td>0.000000</td>\n",
       "      <td>3.374223</td>\n",
       "      <td>18.400719</td>\n",
       "      <td>3475.079227</td>\n",
       "    </tr>\n",
       "    <tr>\n",
       "      <th>25%</th>\n",
       "      <td>5902.143848</td>\n",
       "      <td>11741.467528</td>\n",
       "      <td>5933.706564</td>\n",
       "      <td>14580.357100</td>\n",
       "      <td>1276.700850</td>\n",
       "      <td>330.638301</td>\n",
       "      <td>809.867504</td>\n",
       "      <td>16.441786</td>\n",
       "      <td>4648.822942</td>\n",
       "      <td>410.859815</td>\n",
       "      <td>...</td>\n",
       "      <td>1.378098</td>\n",
       "      <td>0.000000</td>\n",
       "      <td>2.464140</td>\n",
       "      <td>0.000000</td>\n",
       "      <td>0.373238</td>\n",
       "      <td>1.201951</td>\n",
       "      <td>14.906921</td>\n",
       "      <td>39.913493</td>\n",
       "      <td>387.430475</td>\n",
       "      <td>22769.094433</td>\n",
       "    </tr>\n",
       "    <tr>\n",
       "      <th>50%</th>\n",
       "      <td>8016.628565</td>\n",
       "      <td>16040.589880</td>\n",
       "      <td>8103.783439</td>\n",
       "      <td>23097.825936</td>\n",
       "      <td>2352.902327</td>\n",
       "      <td>481.342371</td>\n",
       "      <td>1101.403395</td>\n",
       "      <td>21.890340</td>\n",
       "      <td>7019.157941</td>\n",
       "      <td>532.277053</td>\n",
       "      <td>...</td>\n",
       "      <td>3.192098</td>\n",
       "      <td>0.000000</td>\n",
       "      <td>4.127957</td>\n",
       "      <td>0.000000</td>\n",
       "      <td>1.036215</td>\n",
       "      <td>2.235731</td>\n",
       "      <td>29.634884</td>\n",
       "      <td>52.993693</td>\n",
       "      <td>710.026124</td>\n",
       "      <td>35594.670263</td>\n",
       "    </tr>\n",
       "    <tr>\n",
       "      <th>75%</th>\n",
       "      <td>11236.887034</td>\n",
       "      <td>22538.594950</td>\n",
       "      <td>11289.595988</td>\n",
       "      <td>34373.185504</td>\n",
       "      <td>3971.192192</td>\n",
       "      <td>681.931022</td>\n",
       "      <td>1619.864372</td>\n",
       "      <td>29.395515</td>\n",
       "      <td>10926.448322</td>\n",
       "      <td>724.277709</td>\n",
       "      <td>...</td>\n",
       "      <td>7.159431</td>\n",
       "      <td>0.000000</td>\n",
       "      <td>7.551755</td>\n",
       "      <td>0.000000</td>\n",
       "      <td>2.345941</td>\n",
       "      <td>4.030888</td>\n",
       "      <td>51.258145</td>\n",
       "      <td>75.993914</td>\n",
       "      <td>1242.434228</td>\n",
       "      <td>53462.034662</td>\n",
       "    </tr>\n",
       "    <tr>\n",
       "      <th>max</th>\n",
       "      <td>45101.697434</td>\n",
       "      <td>90233.655610</td>\n",
       "      <td>45095.490102</td>\n",
       "      <td>144706.427973</td>\n",
       "      <td>59677.212349</td>\n",
       "      <td>3370.036117</td>\n",
       "      <td>11617.011618</td>\n",
       "      <td>121.408006</td>\n",
       "      <td>80780.055188</td>\n",
       "      <td>3342.745045</td>\n",
       "      <td>...</td>\n",
       "      <td>91.996543</td>\n",
       "      <td>0.909391</td>\n",
       "      <td>184.185656</td>\n",
       "      <td>1.757516</td>\n",
       "      <td>122.685820</td>\n",
       "      <td>93.402785</td>\n",
       "      <td>259.127121</td>\n",
       "      <td>399.078716</td>\n",
       "      <td>15689.499524</td>\n",
       "      <td>248074.178531</td>\n",
       "    </tr>\n",
       "  </tbody>\n",
       "</table>\n",
       "<p>8 rows × 897 columns</p>\n",
       "</div>"
      ],
      "text/plain": [
       "       hsa.let.7a.1  hsa.let.7a.2  hsa.let.7a.3     hsa.let.7b    hsa.let.7c  \\\n",
       "count    842.000000    842.000000    842.000000     842.000000    842.000000   \n",
       "mean    9218.938921  18432.504585   9289.250466   26606.604836   3152.699471   \n",
       "std     4843.796136   9704.187427   4858.691217   16745.347957   3238.003201   \n",
       "min     1294.149164   2599.981125   1319.952907    1817.920354    148.795934   \n",
       "25%     5902.143848  11741.467528   5933.706564   14580.357100   1276.700850   \n",
       "50%     8016.628565  16040.589880   8103.783439   23097.825936   2352.902327   \n",
       "75%    11236.887034  22538.594950  11289.595988   34373.185504   3971.192192   \n",
       "max    45101.697434  90233.655610  45095.490102  144706.427973  59677.212349   \n",
       "\n",
       "        hsa.let.7d    hsa.let.7e  hsa.let.7f.1  hsa.let.7f.2   hsa.let.7g  \\\n",
       "count   842.000000    842.000000    842.000000    842.000000   842.000000   \n",
       "mean    558.321269   1289.570177     24.359962   8687.461926   610.223836   \n",
       "std     346.883205    763.056055     12.490091   6052.615278   317.854963   \n",
       "min      79.783216    161.181457      2.439034    653.474578    88.614573   \n",
       "25%     330.638301    809.867504     16.441786   4648.822942   410.859815   \n",
       "50%     481.342371   1101.403395     21.890340   7019.157941   532.277053   \n",
       "75%     681.931022   1619.864372     29.395515  10926.448322   724.277709   \n",
       "max    3370.036117  11617.011618    121.408006  80780.055188  3342.745045   \n",
       "\n",
       "       ...  hsa.mir.940  hsa.mir.941.1  hsa.mir.942  hsa.mir.943  hsa.mir.944  \\\n",
       "count  ...   842.000000     842.000000   842.000000   842.000000   842.000000   \n",
       "mean   ...     5.902975       0.003737     6.446279     0.061018     2.320737   \n",
       "std    ...     8.325681       0.049274     9.541682     0.172214     6.527536   \n",
       "min    ...     0.000000       0.000000     0.000000     0.000000     0.000000   \n",
       "25%    ...     1.378098       0.000000     2.464140     0.000000     0.373238   \n",
       "50%    ...     3.192098       0.000000     4.127957     0.000000     1.036215   \n",
       "75%    ...     7.159431       0.000000     7.551755     0.000000     2.345941   \n",
       "max    ...    91.996543       0.909391   184.185656     1.757516   122.685820   \n",
       "\n",
       "       hsa.mir.95  hsa.mir.96  hsa.mir.98   hsa.mir.99a    hsa.mir.99b  \n",
       "count  842.000000  842.000000  842.000000    842.000000     842.000000  \n",
       "mean     3.150482   38.307053   63.746405   1034.572148   44369.112203  \n",
       "std      4.287594   33.791795   40.145314   1117.491608   32754.290751  \n",
       "min      0.000000    0.000000    3.374223     18.400719    3475.079227  \n",
       "25%      1.201951   14.906921   39.913493    387.430475   22769.094433  \n",
       "50%      2.235731   29.634884   52.993693    710.026124   35594.670263  \n",
       "75%      4.030888   51.258145   75.993914   1242.434228   53462.034662  \n",
       "max     93.402785  259.127121  399.078716  15689.499524  248074.178531  \n",
       "\n",
       "[8 rows x 897 columns]"
      ]
     },
     "execution_count": 12,
     "metadata": {},
     "output_type": "execute_result"
    }
   ],
   "source": [
    "df.describe()"
   ]
  },
  {
   "cell_type": "code",
   "execution_count": 13,
   "id": "97f96470",
   "metadata": {},
   "outputs": [],
   "source": [
    "# Nota-se que o modelo está desbalanceado, podendo deixar o modelo tendêncioso, uma vez que quase 90% das amostras \n",
    "# são de pacientes com tumor."
   ]
  },
  {
   "cell_type": "code",
   "execution_count": 14,
   "id": "ba2281ff",
   "metadata": {},
   "outputs": [],
   "source": [
    "# Baseline comparativo (uma solução simples para o problema).\n",
    "# Será usada a coluna class como variável dependente (y) e as colunas dos microRNAs como variáveis independetes (x).\n",
    "# Dividindo o dataset em 30% teste e 70% treino. \n",
    "# Stratify = garante que os valores para treino e teste sejam iguais.\n",
    "\n",
    "x = df.drop(\"class\", axis=1)\n",
    "y = df[\"class\"]\n",
    "x_train, x_test, y_train, y_test = train_test_split(x, y, test_size=0.30, stratify=y , random_state=42)"
   ]
  },
  {
   "cell_type": "code",
   "execution_count": 15,
   "id": "0c4143e0",
   "metadata": {},
   "outputs": [
    {
     "data": {
      "text/plain": [
       "TP    0.896435\n",
       "NT    0.103565\n",
       "Name: class, dtype: float64"
      ]
     },
     "execution_count": 15,
     "metadata": {},
     "output_type": "execute_result"
    }
   ],
   "source": [
    "y_train.value_counts(normalize=True)"
   ]
  },
  {
   "cell_type": "code",
   "execution_count": 16,
   "id": "0c81a934",
   "metadata": {},
   "outputs": [
    {
     "data": {
      "text/plain": [
       "TP    0.897233\n",
       "NT    0.102767\n",
       "Name: class, dtype: float64"
      ]
     },
     "execution_count": 16,
     "metadata": {},
     "output_type": "execute_result"
    }
   ],
   "source": [
    "y_test.value_counts(normalize=True)"
   ]
  },
  {
   "cell_type": "code",
   "execution_count": 17,
   "id": "5df5d9f7",
   "metadata": {},
   "outputs": [],
   "source": [
    "# Nota-se que ambas partições (treino e teste) apresentam as mesmas proporções."
   ]
  },
  {
   "cell_type": "code",
   "execution_count": 18,
   "id": "25922348",
   "metadata": {},
   "outputs": [],
   "source": [
    "# Regressão logística é um método estatístico para prever classes binárias."
   ]
  },
  {
   "cell_type": "code",
   "execution_count": 19,
   "id": "7f0bf922",
   "metadata": {},
   "outputs": [
    {
     "name": "stderr",
     "output_type": "stream",
     "text": [
      "C:\\Users\\Elisa\\anaconda3\\lib\\site-packages\\sklearn\\linear_model\\_logistic.py:814: ConvergenceWarning: lbfgs failed to converge (status=1):\n",
      "STOP: TOTAL NO. of ITERATIONS REACHED LIMIT.\n",
      "\n",
      "Increase the number of iterations (max_iter) or scale the data as shown in:\n",
      "    https://scikit-learn.org/stable/modules/preprocessing.html\n",
      "Please also refer to the documentation for alternative solver options:\n",
      "    https://scikit-learn.org/stable/modules/linear_model.html#logistic-regression\n",
      "  n_iter_i = _check_optimize_result(\n",
      "C:\\Users\\Elisa\\anaconda3\\lib\\site-packages\\sklearn\\linear_model\\_logistic.py:814: ConvergenceWarning: lbfgs failed to converge (status=1):\n",
      "STOP: TOTAL NO. of ITERATIONS REACHED LIMIT.\n",
      "\n",
      "Increase the number of iterations (max_iter) or scale the data as shown in:\n",
      "    https://scikit-learn.org/stable/modules/preprocessing.html\n",
      "Please also refer to the documentation for alternative solver options:\n",
      "    https://scikit-learn.org/stable/modules/linear_model.html#logistic-regression\n",
      "  n_iter_i = _check_optimize_result(\n",
      "C:\\Users\\Elisa\\anaconda3\\lib\\site-packages\\sklearn\\linear_model\\_logistic.py:814: ConvergenceWarning: lbfgs failed to converge (status=1):\n",
      "STOP: TOTAL NO. of ITERATIONS REACHED LIMIT.\n",
      "\n",
      "Increase the number of iterations (max_iter) or scale the data as shown in:\n",
      "    https://scikit-learn.org/stable/modules/preprocessing.html\n",
      "Please also refer to the documentation for alternative solver options:\n",
      "    https://scikit-learn.org/stable/modules/linear_model.html#logistic-regression\n",
      "  n_iter_i = _check_optimize_result(\n",
      "C:\\Users\\Elisa\\anaconda3\\lib\\site-packages\\sklearn\\linear_model\\_logistic.py:814: ConvergenceWarning: lbfgs failed to converge (status=1):\n",
      "STOP: TOTAL NO. of ITERATIONS REACHED LIMIT.\n",
      "\n",
      "Increase the number of iterations (max_iter) or scale the data as shown in:\n",
      "    https://scikit-learn.org/stable/modules/preprocessing.html\n",
      "Please also refer to the documentation for alternative solver options:\n",
      "    https://scikit-learn.org/stable/modules/linear_model.html#logistic-regression\n",
      "  n_iter_i = _check_optimize_result(\n",
      "C:\\Users\\Elisa\\anaconda3\\lib\\site-packages\\sklearn\\linear_model\\_logistic.py:814: ConvergenceWarning: lbfgs failed to converge (status=1):\n",
      "STOP: TOTAL NO. of ITERATIONS REACHED LIMIT.\n",
      "\n",
      "Increase the number of iterations (max_iter) or scale the data as shown in:\n",
      "    https://scikit-learn.org/stable/modules/preprocessing.html\n",
      "Please also refer to the documentation for alternative solver options:\n",
      "    https://scikit-learn.org/stable/modules/linear_model.html#logistic-regression\n",
      "  n_iter_i = _check_optimize_result(\n",
      "C:\\Users\\Elisa\\anaconda3\\lib\\site-packages\\sklearn\\linear_model\\_logistic.py:814: ConvergenceWarning: lbfgs failed to converge (status=1):\n",
      "STOP: TOTAL NO. of ITERATIONS REACHED LIMIT.\n",
      "\n",
      "Increase the number of iterations (max_iter) or scale the data as shown in:\n",
      "    https://scikit-learn.org/stable/modules/preprocessing.html\n",
      "Please also refer to the documentation for alternative solver options:\n",
      "    https://scikit-learn.org/stable/modules/linear_model.html#logistic-regression\n",
      "  n_iter_i = _check_optimize_result(\n",
      "C:\\Users\\Elisa\\anaconda3\\lib\\site-packages\\sklearn\\linear_model\\_logistic.py:814: ConvergenceWarning: lbfgs failed to converge (status=1):\n",
      "STOP: TOTAL NO. of ITERATIONS REACHED LIMIT.\n",
      "\n",
      "Increase the number of iterations (max_iter) or scale the data as shown in:\n",
      "    https://scikit-learn.org/stable/modules/preprocessing.html\n",
      "Please also refer to the documentation for alternative solver options:\n",
      "    https://scikit-learn.org/stable/modules/linear_model.html#logistic-regression\n",
      "  n_iter_i = _check_optimize_result(\n",
      "C:\\Users\\Elisa\\anaconda3\\lib\\site-packages\\sklearn\\linear_model\\_logistic.py:814: ConvergenceWarning: lbfgs failed to converge (status=1):\n",
      "STOP: TOTAL NO. of ITERATIONS REACHED LIMIT.\n",
      "\n",
      "Increase the number of iterations (max_iter) or scale the data as shown in:\n",
      "    https://scikit-learn.org/stable/modules/preprocessing.html\n",
      "Please also refer to the documentation for alternative solver options:\n",
      "    https://scikit-learn.org/stable/modules/linear_model.html#logistic-regression\n",
      "  n_iter_i = _check_optimize_result(\n",
      "C:\\Users\\Elisa\\anaconda3\\lib\\site-packages\\sklearn\\linear_model\\_logistic.py:814: ConvergenceWarning: lbfgs failed to converge (status=1):\n",
      "STOP: TOTAL NO. of ITERATIONS REACHED LIMIT.\n",
      "\n",
      "Increase the number of iterations (max_iter) or scale the data as shown in:\n",
      "    https://scikit-learn.org/stable/modules/preprocessing.html\n",
      "Please also refer to the documentation for alternative solver options:\n",
      "    https://scikit-learn.org/stable/modules/linear_model.html#logistic-regression\n",
      "  n_iter_i = _check_optimize_result(\n",
      "C:\\Users\\Elisa\\anaconda3\\lib\\site-packages\\sklearn\\linear_model\\_logistic.py:814: ConvergenceWarning: lbfgs failed to converge (status=1):\n",
      "STOP: TOTAL NO. of ITERATIONS REACHED LIMIT.\n",
      "\n",
      "Increase the number of iterations (max_iter) or scale the data as shown in:\n",
      "    https://scikit-learn.org/stable/modules/preprocessing.html\n",
      "Please also refer to the documentation for alternative solver options:\n",
      "    https://scikit-learn.org/stable/modules/linear_model.html#logistic-regression\n",
      "  n_iter_i = _check_optimize_result(\n"
     ]
    }
   ],
   "source": [
    "# Aplicação de Regressão Logística\n",
    "# cross_val_score irá aplicar uma validação cruzada na regressão logística e o conjunto de treinamento, computando a acurácia.\n",
    "lrc = LogisticRegression(random_state=42)\n",
    "\n",
    "cv_list_lr_baseline = cross_val_score(\n",
    "    lrc,\n",
    "    x_train,\n",
    "    y_train,\n",
    "    cv=10,\n",
    "    scoring=\"balanced_accuracy\"\n",
    ")"
   ]
  },
  {
   "cell_type": "code",
   "execution_count": 20,
   "id": "4c1b60a0",
   "metadata": {},
   "outputs": [
    {
     "name": "stdout",
     "output_type": "stream",
     "text": [
      "Performance (bac): 0.9201 +- 0.046\n"
     ]
    }
   ],
   "source": [
    "mean_cv_lr_baseline = np.mean(cv_list_lr_baseline)\n",
    "std_cv_lr_baseline = np.std(cv_list_lr_baseline)\n",
    "\n",
    "print(f\"Performance (bac): {round(mean_cv_lr_baseline, 4)} +- {round(std_cv_lr_baseline, 4)}\")"
   ]
  },
  {
   "cell_type": "code",
   "execution_count": 21,
   "id": "a3f2c1fb",
   "metadata": {},
   "outputs": [
    {
     "name": "stderr",
     "output_type": "stream",
     "text": [
      "C:\\Users\\Elisa\\anaconda3\\lib\\site-packages\\sklearn\\neighbors\\_classification.py:228: FutureWarning: Unlike other reduction functions (e.g. `skew`, `kurtosis`), the default behavior of `mode` typically preserves the axis it acts along. In SciPy 1.11.0, this behavior will change: the default value of `keepdims` will become False, the `axis` over which the statistic is taken will be eliminated, and the value None will no longer be accepted. Set `keepdims` to True or False to avoid this warning.\n",
      "  mode, _ = stats.mode(_y[neigh_ind, k], axis=1)\n",
      "C:\\Users\\Elisa\\anaconda3\\lib\\site-packages\\sklearn\\neighbors\\_classification.py:228: FutureWarning: Unlike other reduction functions (e.g. `skew`, `kurtosis`), the default behavior of `mode` typically preserves the axis it acts along. In SciPy 1.11.0, this behavior will change: the default value of `keepdims` will become False, the `axis` over which the statistic is taken will be eliminated, and the value None will no longer be accepted. Set `keepdims` to True or False to avoid this warning.\n",
      "  mode, _ = stats.mode(_y[neigh_ind, k], axis=1)\n",
      "C:\\Users\\Elisa\\anaconda3\\lib\\site-packages\\sklearn\\neighbors\\_classification.py:228: FutureWarning: Unlike other reduction functions (e.g. `skew`, `kurtosis`), the default behavior of `mode` typically preserves the axis it acts along. In SciPy 1.11.0, this behavior will change: the default value of `keepdims` will become False, the `axis` over which the statistic is taken will be eliminated, and the value None will no longer be accepted. Set `keepdims` to True or False to avoid this warning.\n",
      "  mode, _ = stats.mode(_y[neigh_ind, k], axis=1)\n",
      "C:\\Users\\Elisa\\anaconda3\\lib\\site-packages\\sklearn\\neighbors\\_classification.py:228: FutureWarning: Unlike other reduction functions (e.g. `skew`, `kurtosis`), the default behavior of `mode` typically preserves the axis it acts along. In SciPy 1.11.0, this behavior will change: the default value of `keepdims` will become False, the `axis` over which the statistic is taken will be eliminated, and the value None will no longer be accepted. Set `keepdims` to True or False to avoid this warning.\n",
      "  mode, _ = stats.mode(_y[neigh_ind, k], axis=1)\n",
      "C:\\Users\\Elisa\\anaconda3\\lib\\site-packages\\sklearn\\neighbors\\_classification.py:228: FutureWarning: Unlike other reduction functions (e.g. `skew`, `kurtosis`), the default behavior of `mode` typically preserves the axis it acts along. In SciPy 1.11.0, this behavior will change: the default value of `keepdims` will become False, the `axis` over which the statistic is taken will be eliminated, and the value None will no longer be accepted. Set `keepdims` to True or False to avoid this warning.\n",
      "  mode, _ = stats.mode(_y[neigh_ind, k], axis=1)\n",
      "C:\\Users\\Elisa\\anaconda3\\lib\\site-packages\\sklearn\\neighbors\\_classification.py:228: FutureWarning: Unlike other reduction functions (e.g. `skew`, `kurtosis`), the default behavior of `mode` typically preserves the axis it acts along. In SciPy 1.11.0, this behavior will change: the default value of `keepdims` will become False, the `axis` over which the statistic is taken will be eliminated, and the value None will no longer be accepted. Set `keepdims` to True or False to avoid this warning.\n",
      "  mode, _ = stats.mode(_y[neigh_ind, k], axis=1)\n",
      "C:\\Users\\Elisa\\anaconda3\\lib\\site-packages\\sklearn\\neighbors\\_classification.py:228: FutureWarning: Unlike other reduction functions (e.g. `skew`, `kurtosis`), the default behavior of `mode` typically preserves the axis it acts along. In SciPy 1.11.0, this behavior will change: the default value of `keepdims` will become False, the `axis` over which the statistic is taken will be eliminated, and the value None will no longer be accepted. Set `keepdims` to True or False to avoid this warning.\n",
      "  mode, _ = stats.mode(_y[neigh_ind, k], axis=1)\n",
      "C:\\Users\\Elisa\\anaconda3\\lib\\site-packages\\sklearn\\neighbors\\_classification.py:228: FutureWarning: Unlike other reduction functions (e.g. `skew`, `kurtosis`), the default behavior of `mode` typically preserves the axis it acts along. In SciPy 1.11.0, this behavior will change: the default value of `keepdims` will become False, the `axis` over which the statistic is taken will be eliminated, and the value None will no longer be accepted. Set `keepdims` to True or False to avoid this warning.\n",
      "  mode, _ = stats.mode(_y[neigh_ind, k], axis=1)\n",
      "C:\\Users\\Elisa\\anaconda3\\lib\\site-packages\\sklearn\\neighbors\\_classification.py:228: FutureWarning: Unlike other reduction functions (e.g. `skew`, `kurtosis`), the default behavior of `mode` typically preserves the axis it acts along. In SciPy 1.11.0, this behavior will change: the default value of `keepdims` will become False, the `axis` over which the statistic is taken will be eliminated, and the value None will no longer be accepted. Set `keepdims` to True or False to avoid this warning.\n",
      "  mode, _ = stats.mode(_y[neigh_ind, k], axis=1)\n",
      "C:\\Users\\Elisa\\anaconda3\\lib\\site-packages\\sklearn\\neighbors\\_classification.py:228: FutureWarning: Unlike other reduction functions (e.g. `skew`, `kurtosis`), the default behavior of `mode` typically preserves the axis it acts along. In SciPy 1.11.0, this behavior will change: the default value of `keepdims` will become False, the `axis` over which the statistic is taken will be eliminated, and the value None will no longer be accepted. Set `keepdims` to True or False to avoid this warning.\n",
      "  mode, _ = stats.mode(_y[neigh_ind, k], axis=1)\n"
     ]
    }
   ],
   "source": [
    "# p = distancia euclidiana entre os pontos.\n",
    "knn = Pipeline(\n",
    "    [\n",
    "        ('mms', MinMaxScaler()),\n",
    "        ('skb', SelectKBest(chi2, k=10)),\n",
    "        ('knn', KNeighborsClassifier(\n",
    "            n_neighbors=3,\n",
    "            p=2,\n",
    "            weights=\"uniform\",\n",
    "        ))\n",
    "    ]\n",
    ")\n",
    "\n",
    "cv_list_knn_euclid = cross_val_score(\n",
    "    knn,\n",
    "    x_train,\n",
    "    y_train,\n",
    "    cv=10,\n",
    "    scoring=\"balanced_accuracy\"\n",
    ")\n"
   ]
  },
  {
   "cell_type": "code",
   "execution_count": 27,
   "id": "682ac88d",
   "metadata": {},
   "outputs": [
    {
     "name": "stdout",
     "output_type": "stream",
     "text": [
      "Performance (bac): 0.9703 +- 0.046\n"
     ]
    }
   ],
   "source": [
    "mean_cv_knn_euclid = np.mean(cv_list_knn_euclid)\n",
    "std_cv_knn_euclid = np.std(cv_list_lr_baseline)\n",
    "\n",
    "print(f\"Performance (bac): {round(mean_cv_knn_euclid, 4)} +- {round(std_cv_knn_euclid, 4)}\")"
   ]
  },
  {
   "cell_type": "code",
   "execution_count": 32,
   "id": "8047856e",
   "metadata": {},
   "outputs": [
    {
     "name": "stderr",
     "output_type": "stream",
     "text": [
      "C:\\Users\\Elisa\\anaconda3\\lib\\site-packages\\sklearn\\neighbors\\_classification.py:228: FutureWarning: Unlike other reduction functions (e.g. `skew`, `kurtosis`), the default behavior of `mode` typically preserves the axis it acts along. In SciPy 1.11.0, this behavior will change: the default value of `keepdims` will become False, the `axis` over which the statistic is taken will be eliminated, and the value None will no longer be accepted. Set `keepdims` to True or False to avoid this warning.\n",
      "  mode, _ = stats.mode(_y[neigh_ind, k], axis=1)\n",
      "C:\\Users\\Elisa\\anaconda3\\lib\\site-packages\\sklearn\\neighbors\\_classification.py:228: FutureWarning: Unlike other reduction functions (e.g. `skew`, `kurtosis`), the default behavior of `mode` typically preserves the axis it acts along. In SciPy 1.11.0, this behavior will change: the default value of `keepdims` will become False, the `axis` over which the statistic is taken will be eliminated, and the value None will no longer be accepted. Set `keepdims` to True or False to avoid this warning.\n",
      "  mode, _ = stats.mode(_y[neigh_ind, k], axis=1)\n",
      "C:\\Users\\Elisa\\anaconda3\\lib\\site-packages\\sklearn\\neighbors\\_classification.py:228: FutureWarning: Unlike other reduction functions (e.g. `skew`, `kurtosis`), the default behavior of `mode` typically preserves the axis it acts along. In SciPy 1.11.0, this behavior will change: the default value of `keepdims` will become False, the `axis` over which the statistic is taken will be eliminated, and the value None will no longer be accepted. Set `keepdims` to True or False to avoid this warning.\n",
      "  mode, _ = stats.mode(_y[neigh_ind, k], axis=1)\n",
      "C:\\Users\\Elisa\\anaconda3\\lib\\site-packages\\sklearn\\neighbors\\_classification.py:228: FutureWarning: Unlike other reduction functions (e.g. `skew`, `kurtosis`), the default behavior of `mode` typically preserves the axis it acts along. In SciPy 1.11.0, this behavior will change: the default value of `keepdims` will become False, the `axis` over which the statistic is taken will be eliminated, and the value None will no longer be accepted. Set `keepdims` to True or False to avoid this warning.\n",
      "  mode, _ = stats.mode(_y[neigh_ind, k], axis=1)\n",
      "C:\\Users\\Elisa\\anaconda3\\lib\\site-packages\\sklearn\\neighbors\\_classification.py:228: FutureWarning: Unlike other reduction functions (e.g. `skew`, `kurtosis`), the default behavior of `mode` typically preserves the axis it acts along. In SciPy 1.11.0, this behavior will change: the default value of `keepdims` will become False, the `axis` over which the statistic is taken will be eliminated, and the value None will no longer be accepted. Set `keepdims` to True or False to avoid this warning.\n",
      "  mode, _ = stats.mode(_y[neigh_ind, k], axis=1)\n",
      "C:\\Users\\Elisa\\anaconda3\\lib\\site-packages\\sklearn\\neighbors\\_classification.py:228: FutureWarning: Unlike other reduction functions (e.g. `skew`, `kurtosis`), the default behavior of `mode` typically preserves the axis it acts along. In SciPy 1.11.0, this behavior will change: the default value of `keepdims` will become False, the `axis` over which the statistic is taken will be eliminated, and the value None will no longer be accepted. Set `keepdims` to True or False to avoid this warning.\n",
      "  mode, _ = stats.mode(_y[neigh_ind, k], axis=1)\n",
      "C:\\Users\\Elisa\\anaconda3\\lib\\site-packages\\sklearn\\neighbors\\_classification.py:228: FutureWarning: Unlike other reduction functions (e.g. `skew`, `kurtosis`), the default behavior of `mode` typically preserves the axis it acts along. In SciPy 1.11.0, this behavior will change: the default value of `keepdims` will become False, the `axis` over which the statistic is taken will be eliminated, and the value None will no longer be accepted. Set `keepdims` to True or False to avoid this warning.\n",
      "  mode, _ = stats.mode(_y[neigh_ind, k], axis=1)\n",
      "C:\\Users\\Elisa\\anaconda3\\lib\\site-packages\\sklearn\\neighbors\\_classification.py:228: FutureWarning: Unlike other reduction functions (e.g. `skew`, `kurtosis`), the default behavior of `mode` typically preserves the axis it acts along. In SciPy 1.11.0, this behavior will change: the default value of `keepdims` will become False, the `axis` over which the statistic is taken will be eliminated, and the value None will no longer be accepted. Set `keepdims` to True or False to avoid this warning.\n",
      "  mode, _ = stats.mode(_y[neigh_ind, k], axis=1)\n"
     ]
    },
    {
     "name": "stdout",
     "output_type": "stream",
     "text": [
      "Performance (bac): 0.9638 +- 0.0407\n"
     ]
    },
    {
     "name": "stderr",
     "output_type": "stream",
     "text": [
      "C:\\Users\\Elisa\\anaconda3\\lib\\site-packages\\sklearn\\neighbors\\_classification.py:228: FutureWarning: Unlike other reduction functions (e.g. `skew`, `kurtosis`), the default behavior of `mode` typically preserves the axis it acts along. In SciPy 1.11.0, this behavior will change: the default value of `keepdims` will become False, the `axis` over which the statistic is taken will be eliminated, and the value None will no longer be accepted. Set `keepdims` to True or False to avoid this warning.\n",
      "  mode, _ = stats.mode(_y[neigh_ind, k], axis=1)\n",
      "C:\\Users\\Elisa\\anaconda3\\lib\\site-packages\\sklearn\\neighbors\\_classification.py:228: FutureWarning: Unlike other reduction functions (e.g. `skew`, `kurtosis`), the default behavior of `mode` typically preserves the axis it acts along. In SciPy 1.11.0, this behavior will change: the default value of `keepdims` will become False, the `axis` over which the statistic is taken will be eliminated, and the value None will no longer be accepted. Set `keepdims` to True or False to avoid this warning.\n",
      "  mode, _ = stats.mode(_y[neigh_ind, k], axis=1)\n"
     ]
    }
   ],
   "source": [
    "# p = distancia euclidiana entre os pontos.\n",
    "knn = Pipeline(\n",
    "    [\n",
    "        ('mms', MinMaxScaler()),\n",
    "        ('skb', SelectKBest(chi2, k=10)),\n",
    "        ('knn', KNeighborsClassifier(\n",
    "            n_neighbors=3,\n",
    "            p=1,\n",
    "            weights=\"uniform\",\n",
    "        ))\n",
    "    ]\n",
    ")\n",
    "\n",
    "cv_list_knn_man = cross_val_score(\n",
    "    knn,\n",
    "    x_train,\n",
    "    y_train,\n",
    "    cv=10,\n",
    "    scoring=\"balanced_accuracy\"\n",
    ")\n",
    "\n",
    "mean_cv_knn_man = np.mean(cv_list_knn_man)\n",
    "std_cv_knn_man = np.std(cv_list_knn_man)\n",
    "\n",
    "\n",
    "print(f\"Performance (bac): {round(mean_cv_knn_man, 4)} +- {round(std_cv_knn_man, 4)}\")"
   ]
  },
  {
   "cell_type": "code",
   "execution_count": 39,
   "id": "58dd7fb7",
   "metadata": {},
   "outputs": [
    {
     "name": "stdout",
     "output_type": "stream",
     "text": [
      "Performan (bac): 0.9655 +- 0.0391\n"
     ]
    }
   ],
   "source": [
    "lr = Pipeline(\n",
    "    [\n",
    "        ('scaler', StandardScaler()),\n",
    "        ('lr', LogisticRegression(\n",
    "            penalty=\"l2\", #penalidade, usado para evitar overfitting\n",
    "            C=1, #força de regularização do modelo.Valores pequenos implicam em regularização mais forte\n",
    "            fit_intercept=True, # bias ou intercepto do modelo\n",
    "            class_weight=\"balanced\", #peso das classes. Util para datasets desbalanceados.\n",
    "            random_state=42\n",
    "        )\n",
    "    )\n",
    "    ]\n",
    ")\n",
    "\n",
    "cv_list_lr_l2 = cross_val_score(\n",
    "    lr,\n",
    "    x_train,\n",
    "    y_train,\n",
    "    cv=10,\n",
    "    scoring=\"balanced_accuracy\"\n",
    ")\n",
    "\n",
    "mean_cv_lr_l2 = np.mean(cv_list_lr_l2)\n",
    "std_cv_lr_l2 = np.std(cv_list_lr_l2)\n",
    "\n",
    "print(f\"Performan (bac): {round(mean_cv_lr_l2,4)} +- {round(std_cv_lr_l2,4)}\")"
   ]
  },
  {
   "cell_type": "code",
   "execution_count": 51,
   "id": "dbd83cf5",
   "metadata": {},
   "outputs": [
    {
     "name": "stdout",
     "output_type": "stream",
     "text": [
      "Performan (bac): 0.9665 +- 0.0373\n"
     ]
    }
   ],
   "source": [
    "lr = Pipeline(\n",
    "    [\n",
    "        ('scaler', StandardScaler()),\n",
    "        ('lr', LogisticRegression(\n",
    "            penalty=\"l1\", #penalidade, usado para evitar overfitting\n",
    "            C=1, #força de regularização do modelo.Valores pequenos implicam em regularização mais forte\n",
    "            fit_intercept=True, # bias ou intercepto do modelo\n",
    "            class_weight=\"balanced\", #peso das classes. Util para datasets desbalanceados.\n",
    "            solver=\"liblinear\",\n",
    "            random_state=42\n",
    "        )\n",
    "    )\n",
    "    ]\n",
    ")\n",
    "\n",
    "cv_list_lr_l1 = cross_val_score(\n",
    "    lr,\n",
    "    x_train,\n",
    "    y_train,\n",
    "    cv=10,\n",
    "    scoring=\"balanced_accuracy\"\n",
    ")\n",
    "\n",
    "mean_cv_lr_l1 = np.mean(cv_list_lr_l1)\n",
    "std_cv_lr_l1 = np.std(cv_list_lr_l1)\n",
    "\n",
    "print(f\"Performan (bac): {round(mean_cv_lr_l1,4)} +- {round(std_cv_lr_l1,4)}\")"
   ]
  },
  {
   "cell_type": "code",
   "execution_count": 54,
   "id": "30040db6",
   "metadata": {},
   "outputs": [
    {
     "name": "stdout",
     "output_type": "stream",
     "text": [
      "Preformance (bac): 0.9822 +- 0.0228\n"
     ]
    }
   ],
   "source": [
    "# Aplicação da técnica de PCA para redução da dimensionalidade\n",
    "lr = Pipeline(\n",
    "    [\n",
    "        ('scaler', StandardScaler()),\n",
    "        ('pca', PCA(n_components=10)),\n",
    "        ('lr', LogisticRegression(\n",
    "            penalty=\"l2\",\n",
    "            C=1,\n",
    "            fit_intercept=True,\n",
    "            class_weight=\"balanced\",\n",
    "            random_state=42\n",
    "        ))\n",
    "    ]\n",
    ")\n",
    "\n",
    "cv_list_lr_pca = cross_val_score(\n",
    "    lr,\n",
    "    x_train,\n",
    "    y_train,\n",
    "    cv=10,\n",
    "    scoring=\"balanced_accuracy\"\n",
    ")\n",
    "\n",
    "mean_cv_lr_pca = np.mean(cv_list_lr_pca)\n",
    "std_cv_lr_pca = np.std(cv_list_lr_pca)\n",
    "\n",
    "print(f\"Preformance (bac): {round(mean_cv_lr_pca, 4)} +- {round(std_cv_lr_pca, 4)}\")"
   ]
  },
  {
   "cell_type": "code",
   "execution_count": null,
   "id": "b4380a9b",
   "metadata": {},
   "outputs": [],
   "source": [
    "# Etapa 3: Modelagem"
   ]
  },
  {
   "cell_type": "code",
   "execution_count": 55,
   "id": "3aa9c7b7",
   "metadata": {},
   "outputs": [
    {
     "data": {
      "text/html": [
       "<div>\n",
       "<style scoped>\n",
       "    .dataframe tbody tr th:only-of-type {\n",
       "        vertical-align: middle;\n",
       "    }\n",
       "\n",
       "    .dataframe tbody tr th {\n",
       "        vertical-align: top;\n",
       "    }\n",
       "\n",
       "    .dataframe thead th {\n",
       "        text-align: right;\n",
       "    }\n",
       "</style>\n",
       "<table border=\"1\" class=\"dataframe\">\n",
       "  <thead>\n",
       "    <tr style=\"text-align: right;\">\n",
       "      <th></th>\n",
       "      <th>baseline</th>\n",
       "      <th>KNN-euclid</th>\n",
       "      <th>KNN-Man</th>\n",
       "      <th>LR-L2</th>\n",
       "      <th>LR-L1</th>\n",
       "      <th>LR-PCA</th>\n",
       "    </tr>\n",
       "  </thead>\n",
       "  <tbody>\n",
       "    <tr>\n",
       "      <th>0</th>\n",
       "      <td>0.907233</td>\n",
       "      <td>1.000000</td>\n",
       "      <td>0.916667</td>\n",
       "      <td>0.990566</td>\n",
       "      <td>0.990566</td>\n",
       "      <td>0.990566</td>\n",
       "    </tr>\n",
       "    <tr>\n",
       "      <th>1</th>\n",
       "      <td>0.990566</td>\n",
       "      <td>0.981132</td>\n",
       "      <td>0.990566</td>\n",
       "      <td>0.888365</td>\n",
       "      <td>0.981132</td>\n",
       "      <td>0.981132</td>\n",
       "    </tr>\n",
       "    <tr>\n",
       "      <th>2</th>\n",
       "      <td>0.971698</td>\n",
       "      <td>0.990566</td>\n",
       "      <td>0.990566</td>\n",
       "      <td>0.990566</td>\n",
       "      <td>0.990566</td>\n",
       "      <td>0.990566</td>\n",
       "    </tr>\n",
       "    <tr>\n",
       "      <th>3</th>\n",
       "      <td>0.907233</td>\n",
       "      <td>0.916667</td>\n",
       "      <td>0.916667</td>\n",
       "      <td>0.916667</td>\n",
       "      <td>0.907233</td>\n",
       "      <td>0.990566</td>\n",
       "    </tr>\n",
       "    <tr>\n",
       "      <th>4</th>\n",
       "      <td>0.907233</td>\n",
       "      <td>1.000000</td>\n",
       "      <td>1.000000</td>\n",
       "      <td>0.990566</td>\n",
       "      <td>1.000000</td>\n",
       "      <td>1.000000</td>\n",
       "    </tr>\n",
       "    <tr>\n",
       "      <th>5</th>\n",
       "      <td>0.916667</td>\n",
       "      <td>0.916667</td>\n",
       "      <td>0.916667</td>\n",
       "      <td>0.916667</td>\n",
       "      <td>0.916667</td>\n",
       "      <td>0.916667</td>\n",
       "    </tr>\n",
       "    <tr>\n",
       "      <th>6</th>\n",
       "      <td>0.907233</td>\n",
       "      <td>0.907233</td>\n",
       "      <td>0.907233</td>\n",
       "      <td>0.981132</td>\n",
       "      <td>0.907233</td>\n",
       "      <td>0.990566</td>\n",
       "    </tr>\n",
       "    <tr>\n",
       "      <th>7</th>\n",
       "      <td>0.878931</td>\n",
       "      <td>0.990566</td>\n",
       "      <td>1.000000</td>\n",
       "      <td>0.990566</td>\n",
       "      <td>0.981132</td>\n",
       "      <td>0.981132</td>\n",
       "    </tr>\n",
       "    <tr>\n",
       "      <th>8</th>\n",
       "      <td>0.980769</td>\n",
       "      <td>1.000000</td>\n",
       "      <td>1.000000</td>\n",
       "      <td>0.990385</td>\n",
       "      <td>0.990385</td>\n",
       "      <td>0.980769</td>\n",
       "    </tr>\n",
       "    <tr>\n",
       "      <th>9</th>\n",
       "      <td>0.833333</td>\n",
       "      <td>1.000000</td>\n",
       "      <td>1.000000</td>\n",
       "      <td>1.000000</td>\n",
       "      <td>1.000000</td>\n",
       "      <td>1.000000</td>\n",
       "    </tr>\n",
       "  </tbody>\n",
       "</table>\n",
       "</div>"
      ],
      "text/plain": [
       "   baseline  KNN-euclid   KNN-Man     LR-L2     LR-L1    LR-PCA\n",
       "0  0.907233    1.000000  0.916667  0.990566  0.990566  0.990566\n",
       "1  0.990566    0.981132  0.990566  0.888365  0.981132  0.981132\n",
       "2  0.971698    0.990566  0.990566  0.990566  0.990566  0.990566\n",
       "3  0.907233    0.916667  0.916667  0.916667  0.907233  0.990566\n",
       "4  0.907233    1.000000  1.000000  0.990566  1.000000  1.000000\n",
       "5  0.916667    0.916667  0.916667  0.916667  0.916667  0.916667\n",
       "6  0.907233    0.907233  0.907233  0.981132  0.907233  0.990566\n",
       "7  0.878931    0.990566  1.000000  0.990566  0.981132  0.981132\n",
       "8  0.980769    1.000000  1.000000  0.990385  0.990385  0.980769\n",
       "9  0.833333    1.000000  1.000000  1.000000  1.000000  1.000000"
      ]
     },
     "execution_count": 55,
     "metadata": {},
     "output_type": "execute_result"
    }
   ],
   "source": [
    "# resultados da cross-validacao\n",
    "df_result_cv = pd.DataFrame(\n",
    "    [cv_list_lr_baseline, cv_list_knn_euclid,cv_list_knn_man, cv_list_lr_l2, cv_list_lr_l1, cv_list_lr_pca],\n",
    "    index=[\"baseline\", \"KNN-euclid\", \"KNN-Man\", \"LR-L2\", \"LR-L1\", \"LR-PCA\"]\n",
    ").T\n",
    "\n",
    "df_result_cv\n"
   ]
  },
  {
   "cell_type": "code",
   "execution_count": 56,
   "id": "d306e433",
   "metadata": {},
   "outputs": [
    {
     "data": {
      "text/html": [
       "<div>\n",
       "<style scoped>\n",
       "    .dataframe tbody tr th:only-of-type {\n",
       "        vertical-align: middle;\n",
       "    }\n",
       "\n",
       "    .dataframe tbody tr th {\n",
       "        vertical-align: top;\n",
       "    }\n",
       "\n",
       "    .dataframe thead th {\n",
       "        text-align: right;\n",
       "    }\n",
       "</style>\n",
       "<table border=\"1\" class=\"dataframe\">\n",
       "  <thead>\n",
       "    <tr style=\"text-align: right;\">\n",
       "      <th></th>\n",
       "      <th>fold</th>\n",
       "      <th>pipelines</th>\n",
       "      <th>balanced_accuracy</th>\n",
       "    </tr>\n",
       "  </thead>\n",
       "  <tbody>\n",
       "    <tr>\n",
       "      <th>0</th>\n",
       "      <td>0</td>\n",
       "      <td>baseline</td>\n",
       "      <td>0.907233</td>\n",
       "    </tr>\n",
       "    <tr>\n",
       "      <th>1</th>\n",
       "      <td>0</td>\n",
       "      <td>KNN-euclid</td>\n",
       "      <td>1.000000</td>\n",
       "    </tr>\n",
       "    <tr>\n",
       "      <th>2</th>\n",
       "      <td>0</td>\n",
       "      <td>KNN-Man</td>\n",
       "      <td>0.916667</td>\n",
       "    </tr>\n",
       "    <tr>\n",
       "      <th>3</th>\n",
       "      <td>0</td>\n",
       "      <td>LR-L2</td>\n",
       "      <td>0.990566</td>\n",
       "    </tr>\n",
       "    <tr>\n",
       "      <th>4</th>\n",
       "      <td>0</td>\n",
       "      <td>LR-L1</td>\n",
       "      <td>0.990566</td>\n",
       "    </tr>\n",
       "    <tr>\n",
       "      <th>5</th>\n",
       "      <td>0</td>\n",
       "      <td>LR-PCA</td>\n",
       "      <td>0.990566</td>\n",
       "    </tr>\n",
       "    <tr>\n",
       "      <th>6</th>\n",
       "      <td>1</td>\n",
       "      <td>baseline</td>\n",
       "      <td>0.990566</td>\n",
       "    </tr>\n",
       "    <tr>\n",
       "      <th>7</th>\n",
       "      <td>1</td>\n",
       "      <td>KNN-euclid</td>\n",
       "      <td>0.981132</td>\n",
       "    </tr>\n",
       "    <tr>\n",
       "      <th>8</th>\n",
       "      <td>1</td>\n",
       "      <td>KNN-Man</td>\n",
       "      <td>0.990566</td>\n",
       "    </tr>\n",
       "    <tr>\n",
       "      <th>9</th>\n",
       "      <td>1</td>\n",
       "      <td>LR-L2</td>\n",
       "      <td>0.888365</td>\n",
       "    </tr>\n",
       "    <tr>\n",
       "      <th>10</th>\n",
       "      <td>1</td>\n",
       "      <td>LR-L1</td>\n",
       "      <td>0.981132</td>\n",
       "    </tr>\n",
       "    <tr>\n",
       "      <th>11</th>\n",
       "      <td>1</td>\n",
       "      <td>LR-PCA</td>\n",
       "      <td>0.981132</td>\n",
       "    </tr>\n",
       "  </tbody>\n",
       "</table>\n",
       "</div>"
      ],
      "text/plain": [
       "    fold   pipelines  balanced_accuracy\n",
       "0      0    baseline           0.907233\n",
       "1      0  KNN-euclid           1.000000\n",
       "2      0     KNN-Man           0.916667\n",
       "3      0       LR-L2           0.990566\n",
       "4      0       LR-L1           0.990566\n",
       "5      0      LR-PCA           0.990566\n",
       "6      1    baseline           0.990566\n",
       "7      1  KNN-euclid           0.981132\n",
       "8      1     KNN-Man           0.990566\n",
       "9      1       LR-L2           0.888365\n",
       "10     1       LR-L1           0.981132\n",
       "11     1      LR-PCA           0.981132"
      ]
     },
     "execution_count": 56,
     "metadata": {},
     "output_type": "execute_result"
    }
   ],
   "source": [
    "df_res = df_result_cv.stack().to_frame(\"balanced_accuracy\")\n",
    "df_res.index.rename([\"fold\",\"pipelines\"], inplace=True)\n",
    "df_res = df_res.reset_index()\n",
    "df_res.head(12)"
   ]
  },
  {
   "cell_type": "code",
   "execution_count": 57,
   "id": "89498a5a",
   "metadata": {},
   "outputs": [
    {
     "data": {
      "image/png": "[encoded data removed]",
      "text/plain": [
       "<Figure size 1000x1000 with 1 Axes>"
      ]
     },
     "metadata": {},
     "output_type": "display_data"
    }
   ],
   "source": [
    "# Nota-se que o variância do dados no PCA é menor.\n",
    "plt.figure(figsize=(10,10))\n",
    "\n",
    "ax = sns.boxplot(x=\"pipelines\", y=\"balanced_accuracy\", data=df_res)\n",
    "ax = sns.swarmplot(x=\"pipelines\", y=\"balanced_accuracy\", data=df_res, color=\".40\")\n"
   ]
  },
  {
   "cell_type": "code",
   "execution_count": 58,
   "id": "a33af5ef",
   "metadata": {},
   "outputs": [
    {
     "data": {
      "text/plain": [
       "<seaborn.axisgrid.FacetGrid at 0x1a35feedb50>"
      ]
     },
     "execution_count": 58,
     "metadata": {},
     "output_type": "execute_result"
    },
    {
     "data": {
      "text/plain": [
       "<Figure size 1000x1000 with 0 Axes>"
      ]
     },
     "metadata": {},
     "output_type": "display_data"
    },
    {
     "data": {
      "image/png": "[encoded data removed]",
      "text/plain": [
       "<Figure size 500x500 with 1 Axes>"
      ]
     },
     "metadata": {},
     "output_type": "display_data"
    }
   ],
   "source": [
    "# Violin plot\n",
    "plt.figure(figsize=(10,10))\n",
    "\n",
    "sns.catplot(x=\"pipelines\", y=\"balanced_accuracy\", kind=\"violin\", data=df_res)"
   ]
  },
  {
   "cell_type": "code",
   "execution_count": 61,
   "id": "d9eb12b8",
   "metadata": {},
   "outputs": [
    {
     "name": "stdout",
     "output_type": "stream",
     "text": [
      "Performance:  0.972\n"
     ]
    }
   ],
   "source": [
    "# Retreino do pipeline selecionado com os dados do treinamento\n",
    "\n",
    "lr = Pipeline(\n",
    "    [\n",
    "        ('scaler', StandardScaler()),\n",
    "        ('pca', PCA(n_components=10)),\n",
    "        ('lr', LogisticRegression(\n",
    "            penalty=\"l2\",\n",
    "            C=1,\n",
    "            fit_intercept=True,\n",
    "            class_weight=\"balanced\",\n",
    "            random_state=42)\n",
    "        )\n",
    "    ]\n",
    ")\n",
    "\n",
    "lr.fit(x_train, y_train)\n",
    "y_pred = lr.predict(x_test)\n",
    "lr_pca_test = balanced_accuracy_score(y_test, y_pred)\n",
    "\n",
    "print(\"Performance: \", round(lr_pca_test, 4))"
   ]
  },
  {
   "cell_type": "code",
   "execution_count": 64,
   "id": "2e91b0cb",
   "metadata": {},
   "outputs": [
    {
     "data": {
      "image/png": "[encoded data removed]",
      "text/plain": [
       "<Figure size 640x480 with 2 Axes>"
      ]
     },
     "metadata": {},
     "output_type": "display_data"
    }
   ],
   "source": [
    "# Confusion Matrix\n",
    "\n",
    "from sklearn.metrics import ConfusionMatrixDisplay\n",
    "ConfusionMatrixDisplay.from_estimator(lr, x_test, y_test)\n",
    "plt.show()"
   ]
  },
  {
   "cell_type": "code",
   "execution_count": null,
   "id": "a9ac4c9a",
   "metadata": {},
   "outputs": [],
   "source": [
    "# Interpretação do Confusion Matrix:\n",
    "# Indica que o modelo identificou corretamente 25 pessoas sem o câncer (NT) e 223 pessoas com o câncer (TP).\n",
    "# Em contra-partida, foram identicados incorretamente, 1 pessoa sem o câncer e 4 pessoac com câncer."
   ]
  },
  {
   "cell_type": "code",
   "execution_count": 66,
   "id": "7ffaef4c",
   "metadata": {},
   "outputs": [
    {
     "data": {
      "image/png": "[encoded data removed]",
      "text/plain": [
       "<Figure size 640x480 with 2 Axes>"
      ]
     },
     "metadata": {},
     "output_type": "display_data"
    }
   ],
   "source": [
    "# Confusion Matrix em porcentagem\n",
    "ConfusionMatrixDisplay.from_estimator(lr, x_test, y_test, normalize='true')\n",
    "plt.show()"
   ]
  }
 ],
 "metadata": {
  "kernelspec": {
   "display_name": "Python 3 (ipykernel)",
   "language": "python",
   "name": "python3"
  },
  "language_info": {
   "codemirror_mode": {
    "name": "ipython",
    "version": 3
   },
   "file_extension": ".py",
   "mimetype": "text/x-python",
   "name": "python",
   "nbconvert_exporter": "python",
   "pygments_lexer": "ipython3",
   "version": "3.9.13"
  }
 },
 "nbformat": 4,
 "nbformat_minor": 5
}
